{
  "cells": [
    {
      "cell_type": "code",
      "source": [
        "from pathlib import Path\n",
        "\n",
        "import pandas as pd\n",
        "import rpy2.robjects as ro\n",
        "from rpy2.robjects import pandas2ri\n",
        "from rpy2.robjects.conversion import localconverter\n",
        "from rpy2.robjects.packages import importr\n",
        "\n"
      ],
      "outputs": [],
      "execution_count": null,
      "metadata": {
        "jupyter": {
          "source_hidden": false,
          "outputs_hidden": false
        },
        "nteract": {
          "transient": {
            "deleting": false
          }
        }
      }
    },
    {
      "cell_type": "markdown",
      "source": [
        "# Differential Abundance Analysis\n",
        "\n"
      ],
      "metadata": {
        "nteract": {
          "transient": {
            "deleting": false
          }
        }
      }
    },
    {
      "cell_type": "markdown",
      "source": [
        "This notebook/script calculates differential abundance of ASVs for all dataset\n",
        "and within each sample.\n"
      ],
      "metadata": {
        "nteract": {
          "transient": {
            "deleting": false
          }
        }
      }
    },
    {
      "cell_type": "code",
      "source": [
        "otutable = pd.read_csv('data/processed/otutable.csv', index_col=0)\n",
        "metadata = pd.read_csv('data/phylo_sample-metadata.txt', sep='\\t', index_col=0)\n",
        "\n",
        "metadata = metadata.reindex(otutable.columns)\n",
        "\n",
        "# Activate pandas2ri conversion\n",
        "pandas2ri.activate()\n",
        "\n",
        "# Import DESeq2 package\n",
        "deseq2 = importr('DESeq2')\n",
        "\n",
        "# Convert data to R dataframe\n",
        "otu_table_r = pandas2ri.py2rpy(otutable)\n",
        "metadata_r = pandas2ri.py2rpy(metadata)\n",
        "\n"
      ],
      "outputs": [],
      "execution_count": null,
      "metadata": {
        "jupyter": {
          "source_hidden": false,
          "outputs_hidden": false
        },
        "nteract": {
          "transient": {
            "deleting": false
          }
        }
      }
    },
    {
      "cell_type": "code",
      "source": [
        "# Create DESeq2 dataset\n",
        "dds = deseq2.DESeqDataSetFromMatrix(\n",
        "    countData=otu_table_r,\n",
        "    colData=metadata_r,\n",
        "    design=ro.Formula('~rhizosphere'))\n",
        "\n"
      ],
      "outputs": [],
      "execution_count": null,
      "metadata": {
        "jupyter": {
          "source_hidden": false,
          "outputs_hidden": false
        },
        "nteract": {
          "transient": {
            "deleting": false
          }
        }
      }
    },
    {
      "cell_type": "code",
      "source": [
        "# Run DESeq2\n",
        "dds_processed = deseq2.DESeq(dds)\n",
        "\n"
      ],
      "outputs": [],
      "execution_count": null,
      "metadata": {
        "jupyter": {
          "source_hidden": false,
          "outputs_hidden": false
        },
        "nteract": {
          "transient": {
            "deleting": false
          }
        }
      }
    },
    {
      "cell_type": "code",
      "source": [
        "r_results = deseq2.results(dds_processed, contrast=ro.StrVector(\n",
        "    ['rhizosphere', 'rhizosphere', 'soil']))\n",
        "ro.globalenv['r_results'] = r_results\n",
        "r_results_df = ro.r(\"as.data.frame(r_results)\")\n"
      ],
      "outputs": [],
      "execution_count": null,
      "metadata": {
        "jupyter": {
          "source_hidden": false,
          "outputs_hidden": false
        },
        "nteract": {
          "transient": {
            "deleting": false
          }
        }
      }
    },
    {
      "cell_type": "code",
      "source": [
        "with localconverter(ro.default_converter + pandas2ri.converter):\n",
        "    results_df = ro.conversion.rpy2py(r_results_df)\n"
      ],
      "outputs": [],
      "execution_count": null,
      "metadata": {
        "jupyter": {
          "source_hidden": false,
          "outputs_hidden": false
        },
        "nteract": {
          "transient": {
            "deleting": false
          }
        }
      }
    },
    {
      "cell_type": "code",
      "source": [
        "out_dir = Path('results/DAA')\n",
        "out_dir.mkdir(parents=True, exist_ok=True)\n",
        "results_df.to_csv(out_dir / 'DAA_rhizosphere.csv')\n",
        "\n"
      ],
      "outputs": [],
      "execution_count": null,
      "metadata": {
        "jupyter": {
          "source_hidden": false,
          "outputs_hidden": false
        },
        "nteract": {
          "transient": {
            "deleting": false
          }
        }
      }
    },
    {
      "cell_type": "code",
      "source": [
        "# by samples\n",
        "\n",
        "def daa_analysis(outtable_, metadata_, outfile):\n",
        "    pandas2ri.activate()\n",
        "    deseq2 = importr('DESeq2')\n",
        "    otu_table_r = pandas2ri.py2rpy(outtable_)\n",
        "    metadata_r = pandas2ri.py2rpy(metadata_)\n",
        "    dds = deseq2.DESeqDataSetFromMatrix(\n",
        "        countData=otu_table_r,\n",
        "        colData=metadata_r,\n",
        "        design=ro.Formula('~rhizosphere'))\n",
        "    dds_processed = deseq2.DESeq(dds)\n",
        "\n",
        "    r_results = deseq2.results(dds_processed, contrast=ro.StrVector(\n",
        "        ['rhizosphere', 'rhizosphere', 'soil']))\n",
        "    ro.globalenv['r_results'] = r_results\n",
        "    r_results_df = ro.r(\"as.data.frame(r_results)\")\n",
        "\n",
        "    with localconverter(ro.default_converter + pandas2ri.converter):\n",
        "        results_df = ro.conversion.rpy2py(r_results_df)\n",
        "\n",
        "    results_df.to_csv(outfile)\n",
        "\n"
      ],
      "outputs": [],
      "execution_count": null,
      "metadata": {
        "jupyter": {
          "source_hidden": false,
          "outputs_hidden": false
        },
        "nteract": {
          "transient": {
            "deleting": false
          }
        }
      }
    },
    {
      "cell_type": "code",
      "source": [
        "for sampling_site in metadata.sampling_site.unique():\n",
        "    sub_otutable = otutable.T.loc[metadata[metadata.sampling_site == sampling_site].index].T\n",
        "    sub_metadata = metadata.reindex(sub_otutable.columns)\n",
        "    daa_analysis(sub_otutable, sub_metadata, out_dir / f'DAA_rhizosphere_{sampling_site}.csv')"
      ],
      "outputs": [],
      "execution_count": null,
      "metadata": {
        "jupyter": {
          "source_hidden": false,
          "outputs_hidden": false
        },
        "nteract": {
          "transient": {
            "deleting": false
          }
        }
      }
    }
  ],
  "metadata": {
    "kernelspec": {
      "argv": [
        "python",
        "-m",
        "ipykernel_launcher",
        "-f",
        "{connection_file}"
      ],
      "display_name": "Python 3 (ipykernel)",
      "language": "python",
      "metadata": {
        "debugger": true
      },
      "name": "python3"
    }
  },
  "nbformat": 4,
  "nbformat_minor": 0
}