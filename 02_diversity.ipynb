{
  "cells": [
    {
      "cell_type": "code",
      "source": [
        "import json\n",
        "from pathlib import Path\n",
        "\n",
        "import numpy as np\n",
        "import pandas as pd\n",
        "import plotly.express as px\n",
        "import plotly.graph_objects as go\n",
        "import plotly.io as pio\n",
        "from scipy.stats import chi2_contingency, mannwhitneyu\n",
        "from skbio.diversity import beta_diversity\n",
        "from skbio.diversity.alpha import observed_otus, shannon\n",
        "from skbio.stats.distance import permanova\n",
        "from skbio.stats.ordination import pcoa\n",
        "from statsmodels.stats.multitest import multipletests\n",
        "\n",
        "def save_fig(fig_, savepath):\n",
        "    fig_.update_layout(dragmode='pan', margin=dict(l=30, r=30, t=30, b=30))\n",
        "    fig_.write_html(savepath, config={'scrollZoom': True, 'displaylogo': False})\n",
        "\n",
        "\n",
        "pio.templates.default = 'plotly_white'\n"
      ],
      "outputs": [],
      "execution_count": null,
      "metadata": {
        "jupyter": {
          "source_hidden": false,
          "outputs_hidden": false
        },
        "nteract": {
          "transient": {
            "deleting": false
          }
        }
      }
    },
    {
      "cell_type": "code",
      "source": [
        "otutable = pd.read_csv('data/processed/otutable.csv', index_col=0)\n",
        "taxtable = pd.read_csv('data/processed/taxtable.csv', index_col=0)\n",
        "taxtable_genus = pd.read_csv('data/processed/taxtable_genus.csv', index_col=0)\n",
        "otutable_genus = pd.read_csv('data/processed/otutable_genus.csv', index_col=0)\n",
        "metadata = pd.read_csv('data/phylo_sample-metadata.txt', sep='\\t', index_col=0)\n",
        "\n"
      ],
      "outputs": [],
      "execution_count": null,
      "metadata": {
        "jupyter": {
          "source_hidden": false,
          "outputs_hidden": false
        },
        "nteract": {
          "transient": {
            "deleting": false
          }
        }
      }
    },
    {
      "cell_type": "markdown",
      "source": [
        "In the dataset, the samples differ by 'sampling_site', 'rhizosphere', and 'season'.\n",
        "\n",
        "At first, we'll check independency of the features.\n",
        "\n",
        "Later, we'll access alpha diversity, beta diversity, relative abundance of phylum and genera,\n",
        "differential abundance, depending on these factors and\n",
        "perform functional profiling of differing and abundant phyla and genera\n",
        "via literature, trying to explain seen differences.\n"
      ],
      "metadata": {
        "nteract": {
          "transient": {
            "deleting": false
          }
        }
      }
    },
    {
      "cell_type": "markdown",
      "source": [
        "# Checking features independency\n"
      ],
      "metadata": {
        "nteract": {
          "transient": {
            "deleting": false
          }
        }
      }
    },
    {
      "cell_type": "code",
      "source": [
        "relevant_metadata = metadata.reindex(otutable.columns)\n"
      ],
      "outputs": [],
      "execution_count": null,
      "metadata": {
        "jupyter": {
          "source_hidden": false,
          "outputs_hidden": false
        },
        "nteract": {
          "transient": {
            "deleting": false
          }
        }
      }
    },
    {
      "cell_type": "code",
      "source": [
        "# display sample groups\n",
        "print(json.dumps({str(k): list(v) for k, v in\n",
        "                  relevant_metadata.groupby(\n",
        "    ['sampling_site', 'season', 'rhizosphere']\n",
        ").groups.items()}, indent=2))\n",
        "\n"
      ],
      "outputs": [],
      "execution_count": null,
      "metadata": {
        "jupyter": {
          "source_hidden": false,
          "outputs_hidden": false
        },
        "nteract": {
          "transient": {
            "deleting": false
          }
        }
      }
    },
    {
      "cell_type": "code",
      "source": [
        "# checking independence of features in metadata\n",
        "contingency_table_rhizosphere_season = pd.crosstab(\n",
        "    relevant_metadata['rhizosphere'], relevant_metadata['season'])\n",
        "contingency_table_rhizosphere_sampling_site = pd.crosstab(\n",
        "    relevant_metadata['rhizosphere'], relevant_metadata['sampling_site'])\n",
        "contingency_table_season_sampling_site = pd.crosstab(\n",
        "    relevant_metadata['season'], relevant_metadata['sampling_site'])\n",
        "\n",
        "# Chi-Square Tests\n",
        "chi2_rhizosphere_season, p_rhizosphere_season, _, _ = chi2_contingency(\n",
        "    contingency_table_rhizosphere_season)\n",
        "chi2_rhizosphere_sampling_site, p_rhizosphere_sampling_site, _, _ = chi2_contingency(\n",
        "    contingency_table_rhizosphere_sampling_site)\n",
        "chi2_season_sampling_site, p_season_sampling_site, _, _ = chi2_contingency(\n",
        "    contingency_table_season_sampling_site)\n",
        "\n",
        "# Print p-values\n",
        "print(f\"p-value (rhizosphere vs season): {p_rhizosphere_season}\")\n",
        "print(f\"p-value (rhizosphere vs sampling_site): {p_rhizosphere_sampling_site}\")\n",
        "print(f\"p-value (season vs sampling_site): {p_season_sampling_site}\")\n",
        "\n"
      ],
      "outputs": [],
      "execution_count": null,
      "metadata": {
        "jupyter": {
          "source_hidden": false,
          "outputs_hidden": false
        },
        "nteract": {
          "transient": {
            "deleting": false
          }
        }
      }
    },
    {
      "cell_type": "markdown",
      "source": [
        "- 'rhizosphere' and 'season' are dependent (lower p-value of 0.0001).\n",
        "- 'rhizosphere' and 'sampling_site', as well as 'season' and 'sampling_site',\n",
        "are not significantly dependent (higher p-values).\n",
        "\n",
        "Dependencies between 'rhizosphere' and 'season' imply that the microbial community structure\n",
        "varies significantly between different seasons within each type of rhizosphere environment.\n",
        "\n",
        "Therefore, we will perform analysis of rhizosphere separately in each season.\n",
        "And we will analyse microbiomial diversity by sampling_sites separately\n",
        "(only N1 and N2).\n"
      ],
      "metadata": {
        "nteract": {
          "transient": {
            "deleting": false
          }
        }
      }
    },
    {
      "cell_type": "markdown",
      "source": [
        "# Beta Diversity\n"
      ],
      "metadata": {
        "nteract": {
          "transient": {
            "deleting": false
          }
        }
      }
    },
    {
      "cell_type": "code",
      "source": [
        "otutable = otutable.loc[(otutable != 0).any(axis=1)]\n",
        "\n",
        "hellinger_transformed_data = np.sqrt(otutable.T.apply(lambda x: x / x.sum(), axis=0))\n",
        "\n",
        "\n",
        "distance_matrix = beta_diversity(\n",
        "    'braycurtis', hellinger_transformed_data, ids=hellinger_transformed_data.index)\n",
        "\n",
        "ordination_results = pcoa(distance_matrix)\n",
        "\n",
        "explained_variances = ordination_results.proportion_explained\n",
        "\n",
        "perc_pc1 = explained_variances.iloc[0] * 100\n",
        "perc_pc2 = explained_variances.iloc[1] * 100\n"
      ],
      "outputs": [],
      "execution_count": null,
      "metadata": {
        "jupyter": {
          "source_hidden": false,
          "outputs_hidden": false
        },
        "nteract": {
          "transient": {
            "deleting": false
          }
        }
      }
    },
    {
      "cell_type": "code",
      "source": [
        "fig = px.scatter(ordination_results.samples.join(metadata),\n",
        "                 x='PC1', y='PC2',\n",
        "                 color='rhizosphere',\n",
        "                 symbol='season',\n",
        "                 text='sampling_site',\n",
        "                 title='PCoA of Beta Diversity in All Samples (Bray-Curtis dissimilarity)')\n",
        "fig.update_traces(textposition='bottom center')\n",
        "fig.update_layout(\n",
        "    xaxis_title=f'PC1 ({perc_pc1:.2f}%)',\n",
        "    yaxis_title=f'PC2 ({perc_pc2:.2f}%)',\n",
        ")\n",
        "fig.show()\n"
      ],
      "outputs": [],
      "execution_count": null,
      "metadata": {
        "jupyter": {
          "source_hidden": false,
          "outputs_hidden": false
        },
        "nteract": {
          "transient": {
            "deleting": false
          }
        }
      }
    },
    {
      "cell_type": "code",
      "source": [
        "figures_dir = Path('results/figures/')\n",
        "save_fig(fig, figures_dir / 'PCoA_beta_diversity.html')\n"
      ],
      "outputs": [],
      "execution_count": null,
      "metadata": {
        "jupyter": {
          "source_hidden": false,
          "outputs_hidden": false
        },
        "nteract": {
          "transient": {
            "deleting": false
          }
        }
      }
    },
    {
      "cell_type": "markdown",
      "source": [
        "Site T3 shows the most distinct separation between rhizosphere and soil samples,\n",
        "especially in the Fall.\n",
        "Sites N1 and N2 have more overlapping rhizosphere and soil samples, indicating less distinct\n",
        "microbial community differences between these environments.\n",
        "Seasonal Differences: There is some seasonal variation, with Fall samples showing more distinct\n",
        "clustering than Spring samples.\n",
        "\n"
      ],
      "metadata": {
        "nteract": {
          "transient": {
            "deleting": false
          }
        }
      }
    },
    {
      "cell_type": "code",
      "source": [
        "result = permanova(distance_matrix, metadata, column='rhizosphere', permutations=999)\n",
        "print(result)\n",
        "\n"
      ],
      "outputs": [],
      "execution_count": null,
      "metadata": {
        "jupyter": {
          "source_hidden": false,
          "outputs_hidden": false
        },
        "nteract": {
          "transient": {
            "deleting": false
          }
        }
      }
    },
    {
      "cell_type": "markdown",
      "source": [
        "PERMANOVA shows statistically significant differences between rhizosphere and free soil samples.\n",
        "\n"
      ],
      "metadata": {
        "nteract": {
          "transient": {
            "deleting": false
          }
        }
      }
    },
    {
      "cell_type": "code",
      "source": [
        "dm_df = pd.DataFrame(distance_matrix.data, index=distance_matrix.ids, columns=distance_matrix.ids)\n",
        "\n",
        "within_rhizosphere = []\n",
        "within_bulk_soil = []\n",
        "\n",
        "# Loop through the distance matrix to extract within-group distances\n",
        "for i in range(len(dm_df)):\n",
        "    for j in range(i + 1, len(dm_df)):\n",
        "        sample_i = dm_df.index[i]\n",
        "        sample_j = dm_df.columns[j]\n",
        "        group_i = metadata.loc[sample_i, 'rhizosphere']\n",
        "        group_j = metadata.loc[sample_j, 'rhizosphere']\n",
        "\n",
        "        if group_i == group_j:\n",
        "            if group_i == 'rhizosphere':\n",
        "                within_rhizosphere.append(dm_df.iloc[i, j])\n",
        "            elif group_i == 'soil':\n",
        "                within_bulk_soil.append(dm_df.iloc[i, j])\n",
        "\n",
        "# Combine the lists into a DataFrame\n",
        "dissimilarity_df = pd.DataFrame({\n",
        "    'Dissimilarity': within_rhizosphere + within_bulk_soil,\n",
        "    'Compartment': ['Rhizosphere'] * len(within_rhizosphere) + ['Bulk Soil'] * len(within_bulk_soil)\n",
        "})\n",
        "\n",
        "# Create the violin plot using Plotly\n",
        "fig = px.violin(dissimilarity_df, x='Compartment', y='Dissimilarity', box=True,\n",
        "                color='Compartment', points='outliers',\n",
        "                title='Within-Group Dissimilarity in Rhizosphere and Bulk Soil')\n",
        "fig.show()\n",
        "save_fig(fig, figures_dir / 'braycurtis_dissimilarity.html')\n"
      ],
      "outputs": [],
      "execution_count": null,
      "metadata": {
        "jupyter": {
          "source_hidden": false,
          "outputs_hidden": false
        },
        "nteract": {
          "transient": {
            "deleting": false
          }
        }
      }
    },
    {
      "cell_type": "code",
      "source": [
        "stat, p_value = mannwhitneyu(within_rhizosphere, within_bulk_soil, alternative='two-sided')\n",
        "\n",
        "print(f\"Wilcoxon rank-sum test statistic: {stat}\")\n",
        "print(f\"p-value: {p_value}\")\n",
        "\n"
      ],
      "outputs": [],
      "execution_count": null,
      "metadata": {
        "jupyter": {
          "source_hidden": false,
          "outputs_hidden": false
        },
        "nteract": {
          "transient": {
            "deleting": false
          }
        }
      }
    },
    {
      "cell_type": "markdown",
      "source": [
        "Dissimilarity within groups (i.e. differences between different communities within rhizosphere\n",
        "and free soil) showed no statistical differences.\n",
        "\n"
      ],
      "metadata": {
        "nteract": {
          "transient": {
            "deleting": false
          }
        }
      }
    },
    {
      "cell_type": "markdown",
      "source": [
        "# Alpha Diversity\n",
        "\n"
      ],
      "metadata": {
        "nteract": {
          "transient": {
            "deleting": false
          }
        }
      }
    },
    {
      "cell_type": "markdown",
      "source": [
        "## Total\n"
      ],
      "metadata": {
        "nteract": {
          "transient": {
            "deleting": false
          }
        }
      }
    },
    {
      "cell_type": "code",
      "source": [
        "# Calculate observed species richness and Shannon's diversity index\n",
        "alpha_diversity = pd.DataFrame(index=otutable.T.index)\n",
        "alpha_diversity['observed_otus'] = otutable.T.apply(observed_otus, axis=1)\n",
        "alpha_diversity['shannon'] = otutable.T.apply(shannon, axis=1)\n",
        "\n",
        "# Merge alpha diversity metrics with metadata\n",
        "alpha_diversity = alpha_diversity.join(metadata)\n"
      ],
      "outputs": [],
      "execution_count": null,
      "metadata": {
        "jupyter": {
          "source_hidden": false,
          "outputs_hidden": false
        },
        "nteract": {
          "transient": {
            "deleting": false
          }
        }
      }
    },
    {
      "cell_type": "code",
      "source": [
        "fig = px.violin(\n",
        "    alpha_diversity,\n",
        "    x='rhizosphere',\n",
        "    y='observed_otus',\n",
        "    color='rhizosphere',\n",
        "    # facet_col='season',\n",
        "    box=True,\n",
        "    points='all',\n",
        "    title=\"Observed Species Richness Total\",\n",
        "    labels={'observed_otus': \"Observed Species Richness\", 'sampling_site': 'Sampling Site'}\n",
        ")\n",
        "fig.show()\n",
        "save_fig(fig, figures_dir / 'observed_species_richness_all.html')\n"
      ],
      "outputs": [],
      "execution_count": null,
      "metadata": {
        "jupyter": {
          "source_hidden": false,
          "outputs_hidden": false
        },
        "nteract": {
          "transient": {
            "deleting": false
          }
        }
      }
    },
    {
      "cell_type": "code",
      "source": [
        "stat, p_value = mannwhitneyu(\n",
        "    alpha_diversity[alpha_diversity['rhizosphere'] == 'rhizosphere']['observed_otus'],\n",
        "    alpha_diversity[alpha_diversity['rhizosphere'] == 'soil']['observed_otus'],\n",
        "    alternative='two-sided')\n",
        "\n",
        "print(f\"Wilcoxon rank-sum test statistic: {stat}\")\n",
        "print(f\"p-value: {p_value}\")\n"
      ],
      "outputs": [],
      "execution_count": null,
      "metadata": {
        "jupyter": {
          "source_hidden": false,
          "outputs_hidden": false
        },
        "nteract": {
          "transient": {
            "deleting": false
          }
        }
      }
    },
    {
      "cell_type": "code",
      "source": [
        "fig = px.violin(\n",
        "    alpha_diversity,\n",
        "    x='rhizosphere',\n",
        "    y='shannon',\n",
        "    color='rhizosphere',\n",
        "    # facet_col='season',\n",
        "    box=True,\n",
        "    points='all',\n",
        "    title=\"Shannon's Diversity Index Total\",\n",
        "    labels={'shannon': \"Shannon's Index\", 'sampling_site': 'Sampling Site'},\n",
        ")\n",
        "\n",
        "fig.show()\n",
        "save_fig(fig, figures_dir / 'shannon_index_all.html')\n",
        "\n"
      ],
      "outputs": [],
      "execution_count": null,
      "metadata": {
        "jupyter": {
          "source_hidden": false,
          "outputs_hidden": false
        },
        "nteract": {
          "transient": {
            "deleting": false
          }
        }
      }
    },
    {
      "cell_type": "code",
      "source": [
        "stat, p_value = mannwhitneyu(\n",
        "    alpha_diversity[alpha_diversity['rhizosphere'] == 'rhizosphere']['shannon'],\n",
        "    alpha_diversity[alpha_diversity['rhizosphere'] == 'soil']['shannon'],\n",
        "    alternative='two-sided')\n",
        "\n",
        "print(f\"Wilcoxon rank-sum test statistic: {stat}\")\n",
        "print(f\"p-value: {p_value}\")\n"
      ],
      "outputs": [],
      "execution_count": null,
      "metadata": {
        "jupyter": {
          "source_hidden": false,
          "outputs_hidden": false
        },
        "nteract": {
          "transient": {
            "deleting": false
          }
        }
      }
    },
    {
      "cell_type": "markdown",
      "source": [
        "Alpha diversity within rhizosphere and free soil didn't show any statistical differences\n",
        "with all samples combined.\n",
        "\n"
      ],
      "metadata": {
        "nteract": {
          "transient": {
            "deleting": false
          }
        }
      }
    },
    {
      "cell_type": "markdown",
      "source": [
        "## Per sampling site\n"
      ],
      "metadata": {
        "nteract": {
          "transient": {
            "deleting": false
          }
        }
      }
    },
    {
      "cell_type": "code",
      "source": [
        "sampling_sites = alpha_diversity['sampling_site'].unique()\n",
        "\n",
        "\n",
        "# Number of comparisons (sampling sites)\n",
        "num_comparisons = len(sampling_sites)\n",
        "\n",
        "results = []\n",
        "\n",
        "for site in sampling_sites:\n",
        "    # Subset data for the current sampling site\n",
        "    subset = alpha_diversity[alpha_diversity['sampling_site'] == site]\n",
        "\n",
        "    # Perform Wilcoxon signed-rank test for Shannon diversity index\n",
        "    stat, pval = mannwhitneyu(subset[subset['rhizosphere'] == 'rhizosphere']['shannon'],\n",
        "                              subset[subset['rhizosphere'] == 'soil']['shannon'])\n",
        "\n",
        "    # Store the results\n",
        "    results.append({\n",
        "        'Sampling Site': site,\n",
        "        'Statistic': stat,\n",
        "        'P-value': pval\n",
        "    })\n",
        "\n",
        "# Convert results to a DataFrame for easier interpretation\n",
        "results_df = pd.DataFrame(results)\n",
        "\n",
        "# Apply Bonferroni correction\n",
        "reject, corrected_pvals, _, _ = multipletests(results_df['P-value'], method='bonferroni')\n",
        "\n",
        "# Add corrected p-values to results DataFrame\n",
        "results_df['Corrected P-value'] = corrected_pvals\n",
        "results_df['Reject Null Hypothesis'] = reject\n",
        "\n",
        "# Print or visualize the corrected results\n",
        "results_df\n"
      ],
      "outputs": [],
      "execution_count": null,
      "metadata": {
        "jupyter": {
          "source_hidden": false,
          "outputs_hidden": false
        },
        "nteract": {
          "transient": {
            "deleting": false
          }
        }
      }
    },
    {
      "cell_type": "code",
      "source": [
        "fig = px.violin(\n",
        "    alpha_diversity,\n",
        "    x='sampling_site',\n",
        "    y='shannon',\n",
        "    color='rhizosphere',\n",
        "    # facet_col='season',\n",
        "    box=True,\n",
        "    points='all',\n",
        "    title=\"Shannon's Diversity Index by Sampling Site\",\n",
        "    labels={'shannon': \"Shannon's Index\", 'sampling_site': 'Sampling Site'}\n",
        ")\n",
        "\n",
        "fig.add_trace(go.Scatter(\n",
        "    x=['N1', 'T1', 'T3', 'N2'],\n",
        "    y=[7.25, 7.25, 7.25, 7.25],\n",
        "    mode=\"text\",\n",
        "    text=[\"*\", \"\", \"*\", \"*\"],\n",
        "    textposition=\"top center\",\n",
        "    textfont=dict(size=16),\n",
        "    showlegend=False\n",
        "))\n",
        "\n",
        "fig.show()\n",
        "save_fig(fig, figures_dir / 'shannon_by_sample_site.html')\n",
        "\n"
      ],
      "outputs": [],
      "execution_count": null,
      "metadata": {
        "jupyter": {
          "source_hidden": false,
          "outputs_hidden": false
        },
        "nteract": {
          "transient": {
            "deleting": false
          }
        }
      }
    },
    {
      "cell_type": "code",
      "source": [
        "sampling_sites = alpha_diversity['sampling_site'].unique()\n",
        "\n",
        "\n",
        "# Number of comparisons (sampling sites)\n",
        "num_comparisons = len(sampling_sites)\n",
        "\n",
        "results = []\n",
        "\n",
        "for site in sampling_sites:\n",
        "    # Subset data for the current sampling site\n",
        "    subset = alpha_diversity[alpha_diversity['sampling_site'] == site]\n",
        "\n",
        "    # Perform Wilcoxon signed-rank test for Shannon diversity index\n",
        "    stat, pval = mannwhitneyu(subset[subset['rhizosphere'] == 'rhizosphere']['observed_otus'],\n",
        "                              subset[subset['rhizosphere'] == 'soil']['observed_otus'])\n",
        "\n",
        "    # Store the results\n",
        "    results.append({\n",
        "        'Sampling Site': site,\n",
        "        'Statistic': stat,\n",
        "        'P-value': pval\n",
        "    })\n",
        "\n",
        "# Convert results to a DataFrame for easier interpretation\n",
        "results_df = pd.DataFrame(results)\n",
        "\n",
        "# Apply Bonferroni correction\n",
        "reject, corrected_pvals, _, _ = multipletests(results_df['P-value'], method='bonferroni')\n",
        "\n",
        "# Add corrected p-values to results DataFrame\n",
        "results_df['Corrected P-value'] = corrected_pvals\n",
        "results_df['Reject Null Hypothesis'] = reject\n",
        "\n",
        "# Print or visualize the corrected results\n",
        "results_df\n",
        "\n"
      ],
      "outputs": [],
      "execution_count": null,
      "metadata": {
        "jupyter": {
          "source_hidden": false,
          "outputs_hidden": false
        },
        "nteract": {
          "transient": {
            "deleting": false
          }
        }
      }
    },
    {
      "cell_type": "code",
      "source": [
        "fig = px.violin(\n",
        "    alpha_diversity,\n",
        "    x='sampling_site',\n",
        "    y='observed_otus',\n",
        "    color='rhizosphere',\n",
        "    # facet_col='season',\n",
        "    box=True,\n",
        "    points='all',\n",
        "    title=\"Observed Species Richness by Sampling Site\",\n",
        "    labels={'observed_otus': \"Observed Species Richness\", 'sampling_site': 'Sampling Site'}\n",
        ")\n",
        "fig.add_trace(go.Scatter(\n",
        "    x=['N1', 'T1', 'T3', 'N2'],\n",
        "    y=[2100, 2100, 2100, 2100],\n",
        "    mode=\"text\",\n",
        "    text=[\"*\", \"\", \"*\", \"*\"],\n",
        "    textposition=\"top center\",\n",
        "    textfont=dict(size=16),\n",
        "    showlegend=False\n",
        "))\n",
        "\n",
        "fig.show()\n",
        "save_fig(fig, figures_dir / 'observed_species_richness_by_sample_site.html')\n"
      ],
      "outputs": [],
      "execution_count": null,
      "metadata": {
        "jupyter": {
          "source_hidden": false,
          "outputs_hidden": false
        },
        "nteract": {
          "transient": {
            "deleting": false
          }
        }
      }
    },
    {
      "cell_type": "markdown",
      "source": [
        "Alpha diversity was higher in free soil compared to rhizosphere in samples **N1** and **N2**,\n",
        "which are taiga and transitional ecotonic forest, respectively.\n",
        "\n",
        "Alpha diversity between rhizosphere and free soil haven't shown statistical\n",
        "differences in **T1** (taiga).\n",
        "\n",
        "In **T3**, a comparatively oligotrophic sampling site, alpha diversity in the rhizosphere\n",
        "was significantly higher than in free soil.\n",
        "\n",
        "These results might be explained by the following:\n",
        "In a productive forest, there may be more resources in the bulk soil, leading to either\n",
        "no significant differences or differences in the opposite direction. Additionally,\n",
        "the rhizosphere niche might be occupied by specific microorganisms associated with plants,\n",
        "which could displace others and reduce overall diversity."
      ],
      "metadata": {
        "nteract": {
          "transient": {
            "deleting": false
          }
        }
      }
    }
  ],
  "metadata": {
    "kernelspec": {
      "argv": [
        "/usr/bin/python3",
        "-Xfrozen_modules=off",
        "-m",
        "ipykernel_launcher",
        "-f",
        "{connection_file}"
      ],
      "display_name": "Python 3 (ipykernel)",
      "language": "python",
      "metadata": {
        "debugger": true
      },
      "name": "python3"
    }
  },
  "nbformat": 4,
  "nbformat_minor": 0
}