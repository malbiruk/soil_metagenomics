{
  "cells": [
    {
      "cell_type": "code",
      "source": [
        "from pathlib import Path\n",
        "\n",
        "import numpy as np\n",
        "import pandas as pd\n",
        "import plotly.express as px\n",
        "import plotly.figure_factory as ff\n",
        "import plotly.io as pio\n",
        "from scipy import stats\n",
        "from skbio.diversity import alpha_diversity\n",
        "from sklearn.decomposition import PCA\n",
        "from sklearn.preprocessing import StandardScaler\n",
        "from umap import UMAP\n",
        "\n",
        "def save_fig(fig_, savepath):\n",
        "    fig_.update_layout(dragmode='pan', margin=dict(l=30, r=30, t=30, b=30))\n",
        "    fig_.write_html(savepath, config={'scrollZoom': True, 'displaylogo': False})\n",
        "\n",
        "\n",
        "pio.templates.default = 'plotly_white'\n"
      ],
      "outputs": [],
      "execution_count": null,
      "metadata": {
        "jupyter": {
          "source_hidden": false,
          "outputs_hidden": false
        },
        "nteract": {
          "transient": {
            "deleting": false
          }
        }
      }
    },
    {
      "cell_type": "code",
      "source": [
        "# load data\n",
        "tax_table = pd.read_csv('data/phylo_taxtable.csv', index_col=0)\n",
        "otutable = pd.read_csv('data/phylo_otutable.csv', index_col=0)\n",
        "metadata = pd.read_csv('data/phylo_sample-metadata.txt', sep='\\t', index_col=0)\n",
        "\n",
        "assert (tax_table.index == otutable.index).all(), \"ASV in taxonomy and otutable don't match!\"\n",
        "metadata = metadata.loc[otutable.columns]\n",
        "assert all(otutable.columns ==\n",
        "           metadata.index), \"Columns in otutable and index in metadata do not match!\"\n"
      ],
      "outputs": [],
      "execution_count": null,
      "metadata": {
        "jupyter": {
          "source_hidden": false,
          "outputs_hidden": false
        },
        "nteract": {
          "transient": {
            "deleting": false
          }
        }
      }
    },
    {
      "cell_type": "markdown",
      "source": [
        "# Preprocessing\n"
      ],
      "metadata": {
        "nteract": {
          "transient": {
            "deleting": false
          }
        }
      }
    },
    {
      "cell_type": "code",
      "source": [
        "# add column with all taxon levels concatenated\n",
        "def concatenate_levels(row):\n",
        "    return '-'.join(filter(pd.notna, row))\n",
        "\n",
        "\n",
        "tax_table['full'] = tax_table.apply(concatenate_levels, axis=1)\n"
      ],
      "outputs": [],
      "execution_count": null,
      "metadata": {
        "jupyter": {
          "source_hidden": false,
          "outputs_hidden": false
        },
        "nteract": {
          "transient": {
            "deleting": false
          }
        }
      }
    },
    {
      "cell_type": "code",
      "source": [
        "# create tables with only known phylum\n",
        "tax_table_phylum = tax_table.dropna(subset='Phylum')\n",
        "otutable_phylum = otutable.reindex(tax_table_phylum.index)\n",
        "assert (tax_table_phylum.index == otutable_phylum.index).all(\n",
        "), \"ASV in taxonomy and otutable don't match!\"\n"
      ],
      "outputs": [],
      "execution_count": null,
      "metadata": {
        "jupyter": {
          "source_hidden": false,
          "outputs_hidden": false
        },
        "nteract": {
          "transient": {
            "deleting": false
          }
        }
      }
    },
    {
      "cell_type": "code",
      "source": [
        "# create tables with only known genus\n",
        "tax_table_genus = tax_table.dropna(subset='Genus')\n",
        "otutable_genus = otutable.reindex(tax_table_genus.index)\n",
        "assert (tax_table_genus.index == otutable_genus.index).all(\n",
        "), \"ASV in taxonomy and otutable don't match!\"\n"
      ],
      "outputs": [],
      "execution_count": null,
      "metadata": {
        "jupyter": {
          "source_hidden": false,
          "outputs_hidden": false
        },
        "nteract": {
          "transient": {
            "deleting": false
          }
        }
      }
    },
    {
      "cell_type": "code",
      "source": [
        "mean_asv = otutable_phylum.mean(axis=1)\n",
        "\n",
        "# plot distribution of mean counts of ASVs\n",
        "fig = ff.create_distplot([mean_asv[mean_asv < 100]], group_labels=['ASV presence'])\n",
        "fig.update_layout(title='Average ASV presence (known Phylum)',\n",
        "                  xaxis_title='Mean of Counts',\n",
        "                  yaxis_title='Density',\n",
        "                  showlegend=False)\n",
        "fig.show()"
      ],
      "outputs": [],
      "execution_count": null,
      "metadata": {
        "jupyter": {
          "source_hidden": false,
          "outputs_hidden": false
        },
        "nteract": {
          "transient": {
            "deleting": false
          }
        }
      }
    },
    {
      "cell_type": "code",
      "source": [
        "figures_dir = Path('results/figures')\n",
        "figures_dir.mkdir(parents=True, exist_ok=True)\n",
        "save_fig(fig, figures_dir / 'average_asv_presence_phylum_all.html')\n"
      ],
      "outputs": [],
      "execution_count": null,
      "metadata": {
        "jupyter": {
          "source_hidden": false,
          "outputs_hidden": false
        },
        "nteract": {
          "transient": {
            "deleting": false
          }
        }
      }
    },
    {
      "cell_type": "markdown",
      "source": [
        "## Removing low-abundance ASVs and singletons\n",
        "\n"
      ],
      "metadata": {
        "nteract": {
          "transient": {
            "deleting": false
          }
        }
      }
    },
    {
      "cell_type": "markdown",
      "source": [
        "Removing low-abundance ASVs as they might be associated with sequencing errors\n",
        "and our study is not focused on detecting rare species or understanding low-abundance dynamics.\n",
        "Also removing singletons (ASVs appearing in only one sample)\n"
      ],
      "metadata": {
        "nteract": {
          "transient": {
            "deleting": false
          }
        }
      }
    },
    {
      "cell_type": "code",
      "source": [
        "otutable_phylum_filtered = otutable_phylum[mean_asv > 0.8]\n",
        "otutable_phylum_filtered = otutable_phylum_filtered[(otutable_phylum_filtered > 0).sum(axis=1) > 1]\n"
      ],
      "outputs": [],
      "execution_count": null,
      "metadata": {
        "jupyter": {
          "source_hidden": false,
          "outputs_hidden": false
        },
        "nteract": {
          "transient": {
            "deleting": false
          }
        }
      }
    },
    {
      "cell_type": "code",
      "source": [
        "print('ASVs with known phylum before filtering: ', len(otutable_phylum))\n",
        "print('ASVs with known phylum after filtering: ', len(otutable_phylum_filtered))\n"
      ],
      "outputs": [],
      "execution_count": null,
      "metadata": {
        "jupyter": {
          "source_hidden": false,
          "outputs_hidden": false
        },
        "nteract": {
          "transient": {
            "deleting": false
          }
        }
      }
    },
    {
      "cell_type": "code",
      "source": [
        "# plot distributions of mean counts of ASVs (filtered)\n",
        "mean_asv = otutable_phylum_filtered.mean(axis=1)\n",
        "fig = ff.create_distplot([mean_asv[mean_asv < 100]], group_labels=['ASV presence'])\n",
        "fig.update_layout(title='Average ASV presence (known Phylum)',\n",
        "                  xaxis_title='Mean of Counts',\n",
        "                  yaxis_title='Density',\n",
        "                  showlegend=False)\n",
        "fig.show()"
      ],
      "outputs": [],
      "execution_count": null,
      "metadata": {
        "jupyter": {
          "source_hidden": false,
          "outputs_hidden": false
        },
        "nteract": {
          "transient": {
            "deleting": false
          }
        }
      }
    },
    {
      "cell_type": "code",
      "source": [
        "save_fig(fig, figures_dir / 'average_asv_presence_filtered.html')\n"
      ],
      "outputs": [],
      "execution_count": null,
      "metadata": {
        "jupyter": {
          "source_hidden": false,
          "outputs_hidden": false
        },
        "nteract": {
          "transient": {
            "deleting": false
          }
        }
      }
    },
    {
      "cell_type": "markdown",
      "source": [
        "### Checking that filtering the dataset didn't affect alpha-diversity and composition on phylum level\n"
      ],
      "metadata": {
        "nteract": {
          "transient": {
            "deleting": false
          }
        }
      }
    },
    {
      "cell_type": "code",
      "source": [
        "# check that alpha diversity is not affected after filtering\n",
        "shannon_original = alpha_diversity('shannon', otutable_phylum.T)\n",
        "shannon_filtered = alpha_diversity('shannon', otutable_phylum_filtered.T)\n",
        "\n",
        "print(\"Original Shannon Diversity:\")\n",
        "print(shannon_original.describe())\n",
        "print(\"\\nFiltered Shannon Diversity:\")\n",
        "print(shannon_filtered.describe())\n",
        "\n"
      ],
      "outputs": [],
      "execution_count": null,
      "metadata": {
        "jupyter": {
          "source_hidden": false,
          "outputs_hidden": false
        },
        "nteract": {
          "transient": {
            "deleting": false
          }
        }
      }
    },
    {
      "cell_type": "code",
      "source": [
        "# Kolmogorov-Smirnov test checks whether the distributions before and after filtering differ\n",
        "stats.kstest(shannon_original, shannon_filtered)\n"
      ],
      "outputs": [],
      "execution_count": null,
      "metadata": {
        "jupyter": {
          "source_hidden": false,
          "outputs_hidden": false
        },
        "nteract": {
          "transient": {
            "deleting": false
          }
        }
      }
    },
    {
      "cell_type": "markdown",
      "source": [
        "p-value > 0.05, meaning the distribution changed insignificantly\n"
      ],
      "metadata": {
        "nteract": {
          "transient": {
            "deleting": false
          }
        }
      }
    },
    {
      "cell_type": "code",
      "source": [
        "# check that taxonomic composition is not affected after filtering\n",
        "phylum_composition_original = (otutable_phylum\n",
        "                               .join(tax_table_phylum['Phylum'])\n",
        "                               .groupby(by='Phylum').sum())\n",
        "phylum_composition_filtered = (otutable_phylum_filtered\n",
        "                               .join(tax_table_phylum['Phylum'])\n",
        "                               .groupby(by='Phylum').sum())\n",
        "\n",
        "phylum_composition_original_rel = phylum_composition_original.div(\n",
        "    phylum_composition_original.sum(axis=0), axis=1)\n",
        "phylum_composition_filtered_rel = phylum_composition_filtered.div(\n",
        "    phylum_composition_filtered.sum(axis=0), axis=1)\n",
        "\n"
      ],
      "outputs": [],
      "execution_count": null,
      "metadata": {
        "jupyter": {
          "source_hidden": false,
          "outputs_hidden": false
        },
        "nteract": {
          "transient": {
            "deleting": false
          }
        }
      }
    },
    {
      "cell_type": "code",
      "source": [
        "def prepare_plotting_df(composition_df, label, id_vars):\n",
        "    composition_df = composition_df.reset_index()\n",
        "    composition_df_melted = composition_df.melt(\n",
        "        id_vars=id_vars, var_name='Sample', value_name='Abundance')\n",
        "    composition_df_melted['Dataset'] = label\n",
        "    return composition_df_melted\n",
        "\n"
      ],
      "outputs": [],
      "execution_count": null,
      "metadata": {
        "jupyter": {
          "source_hidden": false,
          "outputs_hidden": false
        },
        "nteract": {
          "transient": {
            "deleting": false
          }
        }
      }
    },
    {
      "cell_type": "code",
      "source": [
        "df_plot_original = prepare_plotting_df(phylum_composition_original_rel, 'Original', 'Phylum')\n",
        "df_plot_filtered = prepare_plotting_df(phylum_composition_filtered_rel, 'Filtered', 'Phylum')\n",
        "\n",
        "df_plot_combined = pd.concat([df_plot_original, df_plot_filtered])\n"
      ],
      "outputs": [],
      "execution_count": null,
      "metadata": {
        "jupyter": {
          "source_hidden": false,
          "outputs_hidden": false
        },
        "nteract": {
          "transient": {
            "deleting": false
          }
        }
      }
    },
    {
      "cell_type": "code",
      "source": [
        "fig = px.bar(df_plot_combined, x='Sample', y='Abundance', color='Phylum', facet_col='Dataset', barmode='stack',\n",
        "             title=\"Taxonomic Composition Before and After Filtering\",\n",
        "             labels={'Abundance': 'Relative Abundance', 'Sample': 'Sample'})\n",
        "\n",
        "fig.update_layout(title_text='Taxonomic Composition Changes',\n",
        "                  yaxis_range=[0, 1])\n",
        "fig.show()"
      ],
      "outputs": [],
      "execution_count": null,
      "metadata": {
        "jupyter": {
          "source_hidden": false,
          "outputs_hidden": false
        },
        "nteract": {
          "transient": {
            "deleting": false
          }
        }
      }
    },
    {
      "cell_type": "code",
      "source": [
        "save_fig(fig, figures_dir / 'taxonomic_comp_phylum.html')\n"
      ],
      "outputs": [],
      "execution_count": null,
      "metadata": {
        "jupyter": {
          "source_hidden": false,
          "outputs_hidden": false
        },
        "nteract": {
          "transient": {
            "deleting": false
          }
        }
      }
    },
    {
      "cell_type": "markdown",
      "source": [
        "Taxonomic composition is not affected\n"
      ],
      "metadata": {
        "nteract": {
          "transient": {
            "deleting": false
          }
        }
      }
    },
    {
      "cell_type": "markdown",
      "source": [
        "### Checking that filtering the dataset didn't affect alpha-diversity and composition on genus level\n"
      ],
      "metadata": {
        "nteract": {
          "transient": {
            "deleting": false
          }
        }
      }
    },
    {
      "cell_type": "code",
      "source": [
        "# create genus tables from filtered data\n",
        "tax_table_phylum_filtered = tax_table_phylum.reindex(otutable_phylum_filtered.index)\n",
        "tax_table_genus_filtered = tax_table_phylum_filtered.dropna(subset='Genus')\n",
        "otutable_genus_filtered = otutable_phylum_filtered.reindex(tax_table_genus_filtered.index)\n",
        "assert (tax_table_genus.index == otutable_genus.index).all(\n",
        "), \"ASV in taxonomy and otutable don't match!\"\n"
      ],
      "outputs": [],
      "execution_count": null,
      "metadata": {
        "jupyter": {
          "source_hidden": false,
          "outputs_hidden": false
        },
        "nteract": {
          "transient": {
            "deleting": false
          }
        }
      }
    },
    {
      "cell_type": "code",
      "source": [
        "print('ASVs with known genus before filtering: ', len(otutable_genus))\n",
        "print('ASVs with known genus after filtering: ', len(otutable_genus_filtered))\n",
        "\n"
      ],
      "outputs": [],
      "execution_count": null,
      "metadata": {
        "jupyter": {
          "source_hidden": false,
          "outputs_hidden": false
        },
        "nteract": {
          "transient": {
            "deleting": false
          }
        }
      }
    },
    {
      "cell_type": "code",
      "source": [
        "# check that alpha diversity is not affected after filtering\n",
        "shannon_original = alpha_diversity('shannon', otutable_genus.T)\n",
        "shannon_filtered = alpha_diversity('shannon', otutable_genus_filtered.T)\n",
        "\n",
        "print(\"Original Shannon Diversity:\")\n",
        "print(shannon_original.describe())\n",
        "print(\"\\nFiltered Shannon Diversity:\")\n",
        "print(shannon_filtered.describe())\n",
        "\n"
      ],
      "outputs": [],
      "execution_count": null,
      "metadata": {
        "jupyter": {
          "source_hidden": false,
          "outputs_hidden": false
        },
        "nteract": {
          "transient": {
            "deleting": false
          }
        }
      }
    },
    {
      "cell_type": "code",
      "source": [
        "# Kolmogorov-Smirnov test checks whether the distributions before and after filtering differ\n",
        "stats.kstest(shannon_original, shannon_filtered)\n",
        "\n"
      ],
      "outputs": [],
      "execution_count": null,
      "metadata": {
        "jupyter": {
          "source_hidden": false,
          "outputs_hidden": false
        },
        "nteract": {
          "transient": {
            "deleting": false
          }
        }
      }
    },
    {
      "cell_type": "markdown",
      "source": [
        "p-value > 0.05, meaning the distribution changed insignificantly\n"
      ],
      "metadata": {
        "nteract": {
          "transient": {
            "deleting": false
          }
        }
      }
    },
    {
      "cell_type": "code",
      "source": [
        "# check that taxonomic composition is not affected after filtering\n",
        "genus_composition_original = (otutable_genus\n",
        "                              .join(tax_table_genus['Genus'])\n",
        "                              .groupby(by='Genus').sum())\n",
        "genus_composition_filtered = (otutable_genus_filtered\n",
        "                              .join(tax_table_genus['Genus'])\n",
        "                              .groupby(by='Genus').sum())\n",
        "\n",
        "genus_composition_original_rel = genus_composition_original.div(\n",
        "    genus_composition_original.sum(axis=0), axis=1)\n",
        "genus_composition_filtered_rel = genus_composition_filtered.div(\n",
        "    genus_composition_filtered.sum(axis=0), axis=1)\n",
        "\n",
        "df_plot_original = prepare_plotting_df(genus_composition_original_rel, 'Original', 'Genus')\n",
        "df_plot_filtered = prepare_plotting_df(genus_composition_filtered_rel, 'Filtered', 'Genus')\n",
        "\n",
        "df_plot_combined = pd.concat([df_plot_original, df_plot_filtered])"
      ],
      "outputs": [],
      "execution_count": null,
      "metadata": {
        "jupyter": {
          "source_hidden": false,
          "outputs_hidden": false
        },
        "nteract": {
          "transient": {
            "deleting": false
          }
        }
      }
    },
    {
      "cell_type": "code",
      "source": [
        "fig = px.bar(df_plot_combined, x='Sample', y='Abundance', color='Genus', facet_col='Dataset', barmode='stack',\n",
        "             title=\"Taxonomic Composition Before and After Filtering\",\n",
        "             labels={'Abundance': 'Relative Abundance', 'Sample': 'Sample'})\n",
        "\n",
        "fig.update_layout(title_text='Taxonomic Composition Changes',\n",
        "                  yaxis_range=[0, 1])\n",
        "fig.show()\n"
      ],
      "outputs": [],
      "execution_count": null,
      "metadata": {
        "jupyter": {
          "source_hidden": false,
          "outputs_hidden": false
        },
        "nteract": {
          "transient": {
            "deleting": false
          }
        }
      }
    },
    {
      "cell_type": "code",
      "source": [
        "save_fig(fig, figures_dir / 'taxonomic_comp_genus.html')\n"
      ],
      "outputs": [],
      "execution_count": null,
      "metadata": {
        "jupyter": {
          "source_hidden": false,
          "outputs_hidden": false
        },
        "nteract": {
          "transient": {
            "deleting": false
          }
        }
      }
    },
    {
      "cell_type": "markdown",
      "source": [
        "Taxonomic composition is not affected\n",
        "\n"
      ],
      "metadata": {
        "nteract": {
          "transient": {
            "deleting": false
          }
        }
      }
    },
    {
      "cell_type": "markdown",
      "source": [
        "# Save filtered data\n"
      ],
      "metadata": {
        "nteract": {
          "transient": {
            "deleting": false
          }
        }
      }
    },
    {
      "cell_type": "code",
      "source": [
        "out_dir = Path('data/processed')\n",
        "out_dir.mkdir(parents=True, exist_ok=True)\n",
        "\n",
        "otutable_phylum_filtered.to_csv(out_dir / 'otutable.csv')\n",
        "tax_table_phylum.to_csv(out_dir / 'taxtable.csv')\n",
        "tax_table_genus_filtered.to_csv(out_dir / 'taxtable_genus.csv')\n",
        "otutable_genus_filtered.to_csv(out_dir / 'otutable_genus.csv')\n"
      ],
      "outputs": [],
      "execution_count": null,
      "metadata": {
        "jupyter": {
          "source_hidden": false,
          "outputs_hidden": false
        },
        "nteract": {
          "transient": {
            "deleting": false
          }
        }
      }
    },
    {
      "cell_type": "markdown",
      "source": [
        "# Dimension reduction"
      ],
      "metadata": {
        "nteract": {
          "transient": {
            "deleting": false
          }
        }
      }
    },
    {
      "cell_type": "code",
      "source": [
        "# perform PCA analysis\n",
        "features_scaled = StandardScaler().fit_transform(otutable_phylum_filtered.T)\n",
        "\n",
        "pca = PCA()\n",
        "pca_model = pca.fit_transform(features_scaled)\n",
        "\n",
        "cluster_values = pd.DataFrame(pca_model, columns=[f'PC{i + 1}' for i in range(pca_model.shape[1])])\n",
        "cluster_values = cluster_values.join(metadata.reset_index())"
      ],
      "outputs": [],
      "execution_count": null,
      "metadata": {
        "jupyter": {
          "source_hidden": false,
          "outputs_hidden": false
        },
        "nteract": {
          "transient": {
            "deleting": false
          }
        }
      }
    },
    {
      "cell_type": "code",
      "source": [
        "# PCA scree plot\n",
        "explained_variance = pca.explained_variance_ratio_\n",
        "cumulative_explained_variance = np.cumsum(explained_variance)\n",
        "\n",
        "fig = px.line(x=range(1, len(cumulative_explained_variance) + 1),\n",
        "              y=cumulative_explained_variance, markers=True)\n",
        "fig.update_layout(\n",
        "    title='PCA Elbow Plot',\n",
        "    xaxis_title='Number of Components',\n",
        "    yaxis_title='Cumulative Explained Variance',\n",
        "    showlegend=False\n",
        ")\n",
        "\n",
        "fig.show()\n",
        "save_fig(fig, figures_dir / 'pca_scree.html')\n"
      ],
      "outputs": [],
      "execution_count": null,
      "metadata": {
        "jupyter": {
          "source_hidden": false,
          "outputs_hidden": false
        },
        "nteract": {
          "transient": {
            "deleting": false
          }
        }
      }
    },
    {
      "cell_type": "code",
      "source": [
        "by = 'rhizosphere'  # rhizosphere, soil_type, season\n",
        "fig = px.scatter(cluster_values, x='PC1', y='PC2',\n",
        "                 color=by, hover_data='index',\n",
        "                 title='PCA of Soil Metagenomics Samples',\n",
        "                 labels={'index': 'sample'})\n",
        "\n",
        "fig.show()\n",
        "save_fig(fig, figures_dir / 'pca.html')\n"
      ],
      "outputs": [],
      "execution_count": null,
      "metadata": {
        "jupyter": {
          "source_hidden": false,
          "outputs_hidden": false
        },
        "nteract": {
          "transient": {
            "deleting": false
          }
        }
      }
    },
    {
      "cell_type": "markdown",
      "source": [
        "Only 22% of variance is described by first 2 components (as seen from scree plot).\n",
        "Also the data doesn't cluster well.\n",
        "\n",
        "Below is the UMAP representation, which clusters data better,\n",
        "but it may struggle to preserve the balance between global and local structure."
      ],
      "metadata": {
        "nteract": {
          "transient": {
            "deleting": false
          }
        }
      }
    },
    {
      "cell_type": "code",
      "source": [
        "# perform UMAP analysis\n",
        "features_scaled = StandardScaler().fit_transform(otutable_phylum_filtered.T)\n",
        "\n",
        "umap = UMAP(n_components=2, min_dist=.5, n_neighbors=20)\n",
        "umap_model = umap.fit_transform(features_scaled)\n",
        "\n",
        "cluster_values = pd.DataFrame(\n",
        "    umap_model, columns=[f'UMAP{i + 1}' for i in range(umap_model.shape[1])])\n",
        "cluster_values = cluster_values.join(metadata.reset_index())\n"
      ],
      "outputs": [],
      "execution_count": null,
      "metadata": {
        "jupyter": {
          "source_hidden": false,
          "outputs_hidden": false
        },
        "nteract": {
          "transient": {
            "deleting": false
          }
        }
      }
    },
    {
      "cell_type": "code",
      "source": [
        "fig = px.scatter(cluster_values, x='UMAP1', y='UMAP2',\n",
        "                 color='rhizosphere', symbol='soil_type', hover_data='index',\n",
        "                 title='UMAP of Soil Metagenomics Samples',\n",
        "                 labels={'index': 'sample'})\n",
        "fig.show()\n",
        "save_fig(fig, figures_dir / 'umap.html')\n"
      ],
      "outputs": [],
      "execution_count": null,
      "metadata": {
        "jupyter": {
          "source_hidden": false,
          "outputs_hidden": false
        },
        "nteract": {
          "transient": {
            "deleting": false
          }
        }
      }
    },
    {
      "cell_type": "markdown",
      "source": [
        "## PCA and UMAP of only Chern taiga (sample site N1)\n"
      ],
      "metadata": {
        "nteract": {
          "transient": {
            "deleting": false
          }
        }
      }
    },
    {
      "cell_type": "code",
      "source": [
        "\n",
        "otutable_taiga = otutable_phylum_filtered.T[(metadata['sampling_site'] == 'N1')\n",
        "                                            & (metadata['season'] != 'Summer')].T\n",
        "\n"
      ],
      "outputs": [],
      "execution_count": null,
      "metadata": {
        "jupyter": {
          "source_hidden": false,
          "outputs_hidden": false
        },
        "nteract": {
          "transient": {
            "deleting": false
          }
        }
      }
    },
    {
      "cell_type": "code",
      "source": [
        "# perform PCA analysis\n",
        "features_scaled = StandardScaler().fit_transform(otutable_taiga.T)\n",
        "\n",
        "pca = PCA()\n",
        "pca_model = pca.fit_transform(features_scaled)\n",
        "\n",
        "cluster_values = pd.DataFrame(pca_model, columns=[f'PC{i + 1}' for i in range(pca_model.shape[1])])\n",
        "cluster_values = cluster_values.join(metadata.reindex(otutable_taiga.columns).reset_index())"
      ],
      "outputs": [],
      "execution_count": null,
      "metadata": {
        "jupyter": {
          "source_hidden": false,
          "outputs_hidden": false
        },
        "nteract": {
          "transient": {
            "deleting": false
          }
        }
      }
    },
    {
      "cell_type": "code",
      "source": [
        "# PCA scree plot\n",
        "explained_variance = pca.explained_variance_ratio_\n",
        "cumulative_explained_variance = np.cumsum(explained_variance)\n",
        "\n",
        "fig = px.line(x=range(1, len(cumulative_explained_variance) + 1),\n",
        "              y=cumulative_explained_variance, markers=True)\n",
        "fig.update_layout(\n",
        "    title='PCA Elbow Plot',\n",
        "    xaxis_title='Number of Components',\n",
        "    yaxis_title='Cumulative Explained Variance',\n",
        "    showlegend=False\n",
        ")\n",
        "\n",
        "fig.show()\n",
        "save_fig(fig, figures_dir / 'pca_scree_N1.html')"
      ],
      "outputs": [],
      "execution_count": null,
      "metadata": {
        "jupyter": {
          "source_hidden": false,
          "outputs_hidden": false
        },
        "nteract": {
          "transient": {
            "deleting": false
          }
        }
      }
    },
    {
      "cell_type": "code",
      "source": [
        "fig = px.scatter(cluster_values, x='PC1', y='PC2',\n",
        "                 color='rhizosphere', symbol='season', hover_data='index',\n",
        "                 title='PCA of Soil Metagenomics Samples',\n",
        "                 labels={'index': 'sample'})\n",
        "fig.show()\n",
        "save_fig(fig, figures_dir / 'pca_N1.html')\n"
      ],
      "outputs": [],
      "execution_count": null,
      "metadata": {
        "jupyter": {
          "source_hidden": false,
          "outputs_hidden": false
        },
        "nteract": {
          "transient": {
            "deleting": false
          }
        }
      }
    },
    {
      "cell_type": "code",
      "source": [
        "features_scaled = StandardScaler().fit_transform(otutable_taiga.T)\n",
        "\n",
        "umap = UMAP(n_components=2)\n",
        "umap_model = umap.fit_transform(features_scaled)\n",
        "\n",
        "cluster_values = pd.DataFrame(\n",
        "    umap_model, columns=[f'UMAP{i + 1}' for i in range(umap_model.shape[1])])\n",
        "cluster_values = cluster_values.join(metadata.reindex(otutable_taiga.columns).reset_index())"
      ],
      "outputs": [],
      "execution_count": null,
      "metadata": {
        "jupyter": {
          "source_hidden": false,
          "outputs_hidden": false
        },
        "nteract": {
          "transient": {
            "deleting": false
          }
        }
      }
    },
    {
      "cell_type": "code",
      "source": [
        "fig = px.scatter(cluster_values, x='UMAP1', y='UMAP2',\n",
        "                 color='rhizosphere', symbol='season', hover_data='index',\n",
        "                 title='UMAP of Soil Metagenomics Samples',\n",
        "                 labels={'index': 'sample'})\n",
        "fig.show()\n",
        "save_fig(fig, figures_dir / 'umap_N1.html')\n"
      ],
      "outputs": [],
      "execution_count": null,
      "metadata": {
        "jupyter": {
          "source_hidden": false,
          "outputs_hidden": false
        },
        "nteract": {
          "transient": {
            "deleting": false
          }
        }
      }
    },
    {
      "cell_type": "markdown",
      "source": [
        "## PCA and UMAP of only control soil -- transitional ecotone forest (sample site N2)\n"
      ],
      "metadata": {
        "nteract": {
          "transient": {
            "deleting": false
          }
        }
      }
    },
    {
      "cell_type": "code",
      "source": [
        "otutable_taiga = otutable_phylum_filtered.T[metadata['sampling_site'] == 'N2'].T\n",
        "\n"
      ],
      "outputs": [],
      "execution_count": null,
      "metadata": {
        "jupyter": {
          "source_hidden": false,
          "outputs_hidden": false
        },
        "nteract": {
          "transient": {
            "deleting": false
          }
        }
      }
    },
    {
      "cell_type": "code",
      "source": [
        "# perform PCA analysis\n",
        "features_scaled = StandardScaler().fit_transform(otutable_taiga.T)\n",
        "\n",
        "pca = PCA()\n",
        "pca_model = pca.fit_transform(features_scaled)\n",
        "\n",
        "cluster_values = pd.DataFrame(pca_model, columns=[f'PC{i + 1}' for i in range(pca_model.shape[1])])\n",
        "cluster_values = cluster_values.join(metadata.reindex(otutable_taiga.columns).reset_index())\n"
      ],
      "outputs": [],
      "execution_count": null,
      "metadata": {
        "jupyter": {
          "source_hidden": false,
          "outputs_hidden": false
        },
        "nteract": {
          "transient": {
            "deleting": false
          }
        }
      }
    },
    {
      "cell_type": "code",
      "source": [
        "# PCA scree plot\n",
        "explained_variance = pca.explained_variance_ratio_\n",
        "cumulative_explained_variance = np.cumsum(explained_variance)\n",
        "\n",
        "fig = px.line(x=range(1, len(cumulative_explained_variance) + 1),\n",
        "              y=cumulative_explained_variance, markers=True)\n",
        "fig.update_layout(\n",
        "    title='PCA Elbow Plot',\n",
        "    xaxis_title='Number of Components',\n",
        "    yaxis_title='Cumulative Explained Variance',\n",
        "    showlegend=False\n",
        ")\n",
        "\n",
        "fig.show()\n",
        "save_fig(fig, figures_dir / 'pca_scree_N2.html')"
      ],
      "outputs": [],
      "execution_count": null,
      "metadata": {
        "jupyter": {
          "source_hidden": false,
          "outputs_hidden": false
        },
        "nteract": {
          "transient": {
            "deleting": false
          }
        }
      }
    },
    {
      "cell_type": "code",
      "source": [
        "fig = px.scatter(cluster_values, x='PC1', y='PC2',\n",
        "                 color='rhizosphere', symbol='season', hover_data='index',\n",
        "                 title='PCA of Soil Metagenomics Samples',\n",
        "                 labels={'index': 'sample'})\n",
        "fig.show()\n",
        "save_fig(fig, figures_dir / 'pca_N2.html')\n"
      ],
      "outputs": [],
      "execution_count": null,
      "metadata": {
        "jupyter": {
          "source_hidden": false,
          "outputs_hidden": false
        },
        "nteract": {
          "transient": {
            "deleting": false
          }
        }
      }
    },
    {
      "cell_type": "code",
      "source": [
        "features_scaled = StandardScaler().fit_transform(otutable_taiga.T)\n",
        "\n",
        "umap = UMAP(n_components=2)\n",
        "umap_model = umap.fit_transform(features_scaled)\n",
        "\n",
        "cluster_values = pd.DataFrame(\n",
        "    umap_model, columns=[f'UMAP{i + 1}' for i in range(umap_model.shape[1])])\n",
        "cluster_values = cluster_values.join(metadata.reindex(otutable_taiga.columns).reset_index())\n"
      ],
      "outputs": [],
      "execution_count": null,
      "metadata": {
        "jupyter": {
          "source_hidden": false,
          "outputs_hidden": false
        },
        "nteract": {
          "transient": {
            "deleting": false
          }
        }
      }
    },
    {
      "cell_type": "code",
      "source": [
        "fig = px.scatter(cluster_values, x='UMAP1', y='UMAP2',\n",
        "                 color='rhizosphere', symbol='season', hover_data='index',\n",
        "                 title='UMAP of Soil Metagenomics Samples',\n",
        "                 labels={'index': 'sample'})\n",
        "fig.show()\n",
        "save_fig(fig, figures_dir / 'umap_N2.html')\n"
      ],
      "outputs": [],
      "execution_count": null,
      "metadata": {
        "jupyter": {
          "source_hidden": false,
          "outputs_hidden": false
        },
        "nteract": {
          "transient": {
            "deleting": false
          }
        }
      }
    },
    {
      "cell_type": "markdown",
      "source": [
        "This sampling site shows good clusterization both by soil type (rhizosphere vs free soil) and\n",
        "season (fall vs spring)"
      ],
      "metadata": {
        "nteract": {
          "transient": {
            "deleting": false
          }
        }
      }
    }
  ],
  "metadata": {
    "kernelspec": {
      "argv": [
        "/usr/bin/python3",
        "-Xfrozen_modules=off",
        "-m",
        "ipykernel_launcher",
        "-f",
        "{connection_file}"
      ],
      "display_name": "Python 3 (ipykernel)",
      "language": "python",
      "metadata": {
        "debugger": true
      },
      "name": "python3"
    }
  },
  "nbformat": 4,
  "nbformat_minor": 0
}