{
  "cells": [
    {
      "cell_type": "code",
      "source": [
        "from collections import Counter\n",
        "\n",
        "import numpy as np\n",
        "import pandas as pd\n",
        "import plotly.express as px\n",
        "import plotly.graph_objects as go\n",
        "import plotly.io as pio\n",
        "from faprotax_search import faprotax_search\n",
        "\n",
        "pio.templates.default = 'plotly_white'\n",
        "\n",
        "\n",
        "def save_fig(fig_, savepath):\n",
        "    fig_.update_layout(dragmode='pan', margin=dict(l=30, r=30, t=30, b=30))\n",
        "    fig_.write_html(savepath, config={'scrollZoom': True, 'displaylogo': False})\n"
      ],
      "outputs": [],
      "execution_count": null,
      "metadata": {
        "jupyter": {
          "source_hidden": false,
          "outputs_hidden": false
        },
        "nteract": {
          "transient": {
            "deleting": false
          }
        }
      }
    },
    {
      "cell_type": "markdown",
      "source": [
        "# Differential abundance analysis\n",
        "\n"
      ],
      "metadata": {
        "nteract": {
          "transient": {
            "deleting": false
          }
        }
      }
    },
    {
      "cell_type": "markdown",
      "source": [
        "This notebook/script plots the results of differential abundance analysis\n",
        "and performs functional annotation of abundant genera via FAPROTAX database.\n"
      ],
      "metadata": {
        "nteract": {
          "transient": {
            "deleting": false
          }
        }
      }
    },
    {
      "cell_type": "markdown",
      "source": [
        "## Total"
      ],
      "metadata": {
        "nteract": {
          "transient": {
            "deleting": false
          }
        }
      }
    },
    {
      "cell_type": "code",
      "source": [
        "daa = pd.read_csv('results/DAA/DAA_rhizosphere.csv', index_col=0)\n",
        "taxtable = pd.read_csv('data/processed/taxtable.csv', index_col=0)\n",
        "\n"
      ],
      "outputs": [],
      "execution_count": null,
      "metadata": {
        "jupyter": {
          "source_hidden": false,
          "outputs_hidden": false
        },
        "nteract": {
          "transient": {
            "deleting": false
          }
        }
      }
    },
    {
      "cell_type": "code",
      "source": [
        "merged_data = pd.merge(daa, taxtable[['Phylum', 'Genus']],\n",
        "                       left_index=True, right_index=True, how='left')\n",
        "merged_data = merged_data[merged_data['pvalue'] < 0.05]\n"
      ],
      "outputs": [],
      "execution_count": null,
      "metadata": {
        "jupyter": {
          "source_hidden": false,
          "outputs_hidden": false
        },
        "nteract": {
          "transient": {
            "deleting": false
          }
        }
      }
    },
    {
      "cell_type": "code",
      "source": [
        "# Filter out rows with NaN in Phylum or Genus columns\n",
        "merged_data = merged_data.dropna(subset=['Phylum'])\n"
      ],
      "outputs": [],
      "execution_count": null,
      "metadata": {
        "jupyter": {
          "source_hidden": false,
          "outputs_hidden": false
        },
        "nteract": {
          "transient": {
            "deleting": false
          }
        }
      }
    },
    {
      "cell_type": "code",
      "source": [
        "top_phyla_positive = merged_data.groupby(\n",
        "    'Phylum')['log2FoldChange'].mean().nlargest(5).reset_index()\n",
        "top_phyla_negative = merged_data.groupby(\n",
        "    'Phylum')['log2FoldChange'].mean().nsmallest(15).reset_index()\n"
      ],
      "outputs": [],
      "execution_count": null,
      "metadata": {
        "jupyter": {
          "source_hidden": false,
          "outputs_hidden": false
        },
        "nteract": {
          "transient": {
            "deleting": false
          }
        }
      }
    },
    {
      "cell_type": "code",
      "source": [
        "phyla_df = pd.concat([top_phyla_positive, top_phyla_negative]).sort_values('log2FoldChange')\n",
        "phyla_df['color'] = phyla_df['log2FoldChange'] < 0\n",
        "fig = px.bar(phyla_df, y='Phylum', x='log2FoldChange', color='color',\n",
        "             title='Rhizosphere vs soil, by all samples')\n",
        "fig.update_layout(showlegend=False)\n",
        "fig.show()\n",
        "save_fig(fig, 'results/figures/daa_phyla.html')\n",
        "\n"
      ],
      "outputs": [],
      "execution_count": null,
      "metadata": {
        "jupyter": {
          "source_hidden": false,
          "outputs_hidden": false
        },
        "nteract": {
          "transient": {
            "deleting": false
          }
        }
      }
    },
    {
      "cell_type": "code",
      "source": [
        "top_genera_positive = merged_data.groupby(\n",
        "    'Genus')['log2FoldChange'].mean().nlargest(20).reset_index()\n",
        "top_genera_negative = merged_data.groupby(\n",
        "    'Genus')['log2FoldChange'].mean().nsmallest(20).reset_index()"
      ],
      "outputs": [],
      "execution_count": null,
      "metadata": {
        "jupyter": {
          "source_hidden": false,
          "outputs_hidden": false
        },
        "nteract": {
          "transient": {
            "deleting": false
          }
        }
      }
    },
    {
      "cell_type": "code",
      "source": [
        "genus_df = pd.concat([top_genera_positive, top_genera_negative]).sort_values('log2FoldChange')\n",
        "genus_df['color'] = genus_df['log2FoldChange'] < 0\n",
        "fig = px.bar(genus_df, y='Genus', x='log2FoldChange', color='color',\n",
        "             title='Rhizosphere vs soil, by all samples')\n",
        "fig.update_layout(showlegend=False)\n",
        "fig.show()\n",
        "save_fig(fig, 'results/figures/daa_genera.html')\n"
      ],
      "outputs": [],
      "execution_count": null,
      "metadata": {
        "jupyter": {
          "source_hidden": false,
          "outputs_hidden": false
        },
        "nteract": {
          "transient": {
            "deleting": false
          }
        }
      }
    },
    {
      "cell_type": "markdown",
      "source": [
        "## By sampling site\n",
        "\n"
      ],
      "metadata": {
        "nteract": {
          "transient": {
            "deleting": false
          }
        }
      }
    },
    {
      "cell_type": "code",
      "source": [
        "# for each of the most differentially abundant phyla and genera in all sampling sites combined\n",
        "# show, in which sampling sites is it also among top differentially abundant taxons and are they\n",
        "# differentially abundant in the same direction (corr_phyla, corr_genera), or the opposite\n",
        "# (opp_phyla, opp_genera)\n",
        "\n",
        "corresponding_phyla = []\n",
        "corresponding_phyla_samples = []\n",
        "opposite_phyla = []\n",
        "opposite_phyla_samples = []\n",
        "corresponding_genera = []\n",
        "corresponding_genera_samples = []\n",
        "opposite_genera = []\n",
        "opposite_genera_samples = []\n",
        "\n",
        "\n",
        "for sampling_site in ['N1', 'T1', 'N2', 'T3']:\n",
        "    daa = pd.read_csv(f'results/DAA/DAA_rhizosphere_{sampling_site}.csv', index_col=0)\n",
        "    taxtable = pd.read_csv('data/processed/taxtable.csv', index_col=0)\n",
        "    merged_data = pd.merge(daa, taxtable[['Phylum', 'Genus']],\n",
        "                           left_index=True, right_index=True, how='left')\n",
        "    merged_data = merged_data[merged_data['pvalue'] < 0.05]\n",
        "    merged_data = merged_data.dropna(subset=['Phylum'])\n",
        "    top_phyla_positive_ss = merged_data.groupby(\n",
        "        'Phylum')['log2FoldChange'].mean().nlargest(10).reset_index()\n",
        "    top_phyla_negative_ss = merged_data.groupby(\n",
        "        'Phylum')['log2FoldChange'].mean().nsmallest(10).reset_index()\n",
        "\n",
        "    top_genera_positive_ss = merged_data.groupby(\n",
        "        'Genus')['log2FoldChange'].mean().nlargest(20).reset_index()\n",
        "    top_genera_negative_ss = merged_data.groupby(\n",
        "        'Genus')['log2FoldChange'].mean().nsmallest(20).reset_index()\n",
        "\n",
        "    for phylum in top_phyla_positive['Phylum']:\n",
        "        if phylum in top_phyla_positive_ss['Phylum'].values:\n",
        "            corresponding_phyla.append(phylum)\n",
        "            corresponding_phyla_samples.append(sampling_site)\n",
        "        elif phylum in top_phyla_negative_ss['Phylum'].values:\n",
        "            opposite_phyla.append(phylum)\n",
        "            opposite_phyla_samples.append(sampling_site)\n",
        "\n",
        "    for phylum in top_phyla_negative['Phylum']:\n",
        "        if phylum in top_phyla_positive_ss['Phylum'].values:\n",
        "            opposite_phyla.append(phylum)\n",
        "            opposite_phyla_samples.append(sampling_site)\n",
        "        elif phylum in top_phyla_negative_ss['Phylum'].values:\n",
        "            corresponding_phyla.append(phylum)\n",
        "            corresponding_phyla_samples.append(sampling_site)\n",
        "\n",
        "    for genus in top_genera_positive['Genus']:\n",
        "        if genus in top_genera_positive_ss['Genus'].values:\n",
        "            corresponding_genera.append(genus)\n",
        "            corresponding_genera_samples.append(sampling_site)\n",
        "        elif genus in top_genera_negative_ss['Genus'].values:\n",
        "            opposite_genera.append(genus)\n",
        "            opposite_genera_samples.append(sampling_site)\n",
        "\n",
        "    for genus in top_genera_negative['Genus']:\n",
        "        if genus in top_genera_positive_ss['Genus'].values:\n",
        "            opposite_genera.append(genus)\n",
        "            opposite_genera_samples.append(sampling_site)\n",
        "        elif genus in top_genera_negative_ss['Genus'].values:\n",
        "            corresponding_genera.append(genus)\n",
        "            corresponding_genera_samples.append(sampling_site)\n",
        "\n"
      ],
      "outputs": [],
      "execution_count": null,
      "metadata": {
        "jupyter": {
          "source_hidden": false,
          "outputs_hidden": false
        },
        "nteract": {
          "transient": {
            "deleting": false
          }
        }
      }
    },
    {
      "cell_type": "code",
      "source": [
        "# Organize results into a dataframe\n",
        "corr_phyla = pd.DataFrame({\n",
        "    'Corresponding_Phyla': corresponding_phyla,\n",
        "    'Corresponding_Phyla_Samples': corresponding_phyla_samples, }\n",
        ").groupby(\n",
        "    'Corresponding_Phyla').apply(\n",
        "        lambda x: ','.join(x['Corresponding_Phyla_Samples']),\n",
        "        include_groups=False).reset_index()\n",
        "\n",
        "opp_phyla = pd.DataFrame({\n",
        "    'Opposite_Phyla': opposite_phyla,\n",
        "    'Opposite_Phyla_Samples': opposite_phyla_samples, }).groupby(\n",
        "        'Opposite_Phyla').apply(\n",
        "            lambda x: ','.join(x['Opposite_Phyla_Samples']),\n",
        "            include_groups=False).reset_index()\n",
        "\n",
        "corr_genera = pd.DataFrame({\n",
        "    'Corresponding_Genera': corresponding_genera,\n",
        "    'Corresponding_Genera_Samples': corresponding_genera_samples, }).groupby(\n",
        "        'Corresponding_Genera').apply(\n",
        "            lambda x: ','.join(x['Corresponding_Genera_Samples']),\n",
        "            include_groups=False).reset_index()\n",
        "\n",
        "opp_genera = pd.DataFrame({\n",
        "    'Opposite_Genera': opposite_genera,\n",
        "    'Opposite_Genera_Samples': opposite_genera_samples\n",
        "}).groupby(\n",
        "    'Opposite_Genera').apply(\n",
        "        lambda x: ','.join(x['Opposite_Genera_Samples']),\n",
        "        include_groups=False).reset_index()\n",
        "\n"
      ],
      "outputs": [],
      "execution_count": null,
      "metadata": {
        "jupyter": {
          "source_hidden": false,
          "outputs_hidden": false
        },
        "nteract": {
          "transient": {
            "deleting": false
          }
        }
      }
    },
    {
      "cell_type": "markdown",
      "source": [
        "# Relative abundance analysis\n"
      ],
      "metadata": {
        "nteract": {
          "transient": {
            "deleting": false
          }
        }
      }
    },
    {
      "cell_type": "code",
      "source": [
        "otutable = pd.read_csv('data/processed/otutable.csv', index_col=0)\n",
        "taxtable = pd.read_csv('data/processed/taxtable.csv', index_col=0)\n",
        "metadata = pd.read_csv('data/phylo_sample-metadata.txt', index_col=0, sep='\\t')\n",
        "metadata = metadata.reindex(otutable.columns)\n",
        "\n"
      ],
      "outputs": [],
      "execution_count": null,
      "metadata": {
        "jupyter": {
          "source_hidden": false,
          "outputs_hidden": false
        },
        "nteract": {
          "transient": {
            "deleting": false
          }
        }
      }
    },
    {
      "cell_type": "code",
      "source": [
        "phylum_composition = (otutable\n",
        "                      .join(taxtable['Phylum'])\n",
        "                      .groupby(by='Phylum').sum())\n"
      ],
      "outputs": [],
      "execution_count": null,
      "metadata": {
        "jupyter": {
          "source_hidden": false,
          "outputs_hidden": false
        },
        "nteract": {
          "transient": {
            "deleting": false
          }
        }
      }
    },
    {
      "cell_type": "code",
      "source": [
        "phylum_composition_rel = phylum_composition.div(\n",
        "    phylum_composition.sum(axis=0), axis=1)\n",
        "\n"
      ],
      "outputs": [],
      "execution_count": null,
      "metadata": {
        "jupyter": {
          "source_hidden": false,
          "outputs_hidden": false
        },
        "nteract": {
          "transient": {
            "deleting": false
          }
        }
      }
    },
    {
      "cell_type": "code",
      "source": [
        "plot_df_total = phylum_composition_rel.T.join(metadata[['rhizosphere']]\n",
        "                                              ).groupby('rhizosphere').mean().T.sort_values(\n",
        "    'rhizosphere', ascending=True).reset_index().rename(\n",
        "        columns={'index': 'Phylum'}\n",
        ")\n",
        "\n"
      ],
      "outputs": [],
      "execution_count": null,
      "metadata": {
        "jupyter": {
          "source_hidden": false,
          "outputs_hidden": false
        },
        "nteract": {
          "transient": {
            "deleting": false
          }
        }
      }
    },
    {
      "cell_type": "code",
      "source": [
        "df_melted = plot_df_total.melt(id_vars='Phylum', var_name='Sample',\n",
        "                               value_name='Relative Abundance')\n"
      ],
      "outputs": [],
      "execution_count": null,
      "metadata": {
        "jupyter": {
          "source_hidden": false,
          "outputs_hidden": false
        },
        "nteract": {
          "transient": {
            "deleting": false
          }
        }
      }
    },
    {
      "cell_type": "code",
      "source": [
        "df_melted['Sample'] = pd.Categorical(df_melted['Sample'], categories=[\n",
        "                                     'rhizosphere', 'soil'], ordered=True)\n",
        "\n",
        "colors = [\n",
        "    \"#636EFA\", \"#EF553B\", \"#00CC96\", \"#AB63FA\", \"#FFA15A\",\n",
        "    \"#19D3F3\", \"#FF6692\", \"#B6E880\", \"#FF97FF\", \"#FECB52\",\n",
        "    \"#636EFA\", \"#EF553B\", \"#00CC96\", \"#AB63FA\", \"#FFA15A\",\n",
        "    \"#19D3F3\", \"#FF6692\", \"#B6E880\", \"#FF97FF\", \"#FECB52\",\n",
        "    \"#636EFA\", \"#EF553B\", \"#00CC96\", \"#AB63FA\", \"#FFA15A\",\n",
        "    \"#19D3F3\", \"#FF6692\"\n",
        "]\n",
        "\n",
        "phylum_color_map = {phylum: colors[i % len(colors)] for i, phylum in\n",
        "                    enumerate(plot_df_total['Phylum'].unique())}\n",
        "\n",
        "df_melted['color'] = df_melted['Phylum'].map(phylum_color_map)\n",
        "\n",
        "fig = go.Figure()\n",
        "for phylum in plot_df_total['Phylum'].unique():\n",
        "    df_phylum = df_melted[df_melted['Phylum'] == phylum]\n",
        "    fig.add_trace(go.Bar(\n",
        "        x=df_phylum['Sample'],\n",
        "        y=df_phylum['Relative Abundance'],\n",
        "        text=phylum,\n",
        "        textposition='inside',\n",
        "        name=phylum,\n",
        "        marker_color=phylum_color_map[phylum],\n",
        "        hoverinfo='y+name',\n",
        "    ))\n",
        "\n",
        "fig.update_layout(\n",
        "    title='Stacked Bar Plot of Phyla in Rhizosphere vs. Soil',\n",
        "    xaxis_title='Sample Type',\n",
        "    yaxis_title='Relative Abundance',\n",
        "    barmode='stack'\n",
        ")\n",
        "\n",
        "fig.show()\n",
        "save_fig(fig, 'results/figures/relative_abundancy_phyla.html')\n",
        "\n"
      ],
      "outputs": [],
      "execution_count": null,
      "metadata": {
        "jupyter": {
          "source_hidden": false,
          "outputs_hidden": false
        },
        "nteract": {
          "transient": {
            "deleting": false
          }
        }
      }
    },
    {
      "cell_type": "code",
      "source": [
        "genus_composition = (otutable\n",
        "                     .join(taxtable['Genus']).dropna(subset='Genus')\n",
        "                     .groupby(by='Genus').sum())\n"
      ],
      "outputs": [],
      "execution_count": null,
      "metadata": {
        "jupyter": {
          "source_hidden": false,
          "outputs_hidden": false
        },
        "nteract": {
          "transient": {
            "deleting": false
          }
        }
      }
    },
    {
      "cell_type": "code",
      "source": [
        "genus_composition_rel = genus_composition.div(\n",
        "    genus_composition.sum(axis=0), axis=1)\n",
        "\n"
      ],
      "outputs": [],
      "execution_count": null,
      "metadata": {
        "jupyter": {
          "source_hidden": false,
          "outputs_hidden": false
        },
        "nteract": {
          "transient": {
            "deleting": false
          }
        }
      }
    },
    {
      "cell_type": "code",
      "source": [
        "plot_df_total = genus_composition_rel.T.join(metadata[['rhizosphere']]\n",
        "                                             ).groupby('rhizosphere').mean().T.sort_values(\n",
        "    'rhizosphere', ascending=True).reset_index().rename(\n",
        "        columns={'index': 'Genus'}\n",
        ")\n",
        "\n"
      ],
      "outputs": [],
      "execution_count": null,
      "metadata": {
        "jupyter": {
          "source_hidden": false,
          "outputs_hidden": false
        },
        "nteract": {
          "transient": {
            "deleting": false
          }
        }
      }
    },
    {
      "cell_type": "code",
      "source": [
        "df_melted = plot_df_total.melt(id_vars='Genus', var_name='Sample',\n",
        "                               value_name='Relative Abundance')\n"
      ],
      "outputs": [],
      "execution_count": null,
      "metadata": {
        "jupyter": {
          "source_hidden": false,
          "outputs_hidden": false
        },
        "nteract": {
          "transient": {
            "deleting": false
          }
        }
      }
    },
    {
      "cell_type": "code",
      "source": [
        "df_melted['Sample'] = pd.Categorical(df_melted['Sample'], categories=[\n",
        "                                     'rhizosphere', 'soil'], ordered=True)\n",
        "\n",
        "colors = [\n",
        "    \"#636EFA\", \"#EF553B\", \"#00CC96\", \"#AB63FA\", \"#FFA15A\",\n",
        "    \"#19D3F3\", \"#FF6692\", \"#B6E880\", \"#FF97FF\", \"#FECB52\",\n",
        "    \"#636EFA\", \"#EF553B\", \"#00CC96\", \"#AB63FA\", \"#FFA15A\",\n",
        "    \"#19D3F3\", \"#FF6692\", \"#B6E880\", \"#FF97FF\", \"#FECB52\",\n",
        "    \"#636EFA\", \"#EF553B\", \"#00CC96\", \"#AB63FA\", \"#FFA15A\",\n",
        "    \"#19D3F3\", \"#FF6692\"\n",
        "]\n",
        "\n",
        "genus_color_map = {phylum: colors[i % len(colors)] for i, phylum in\n",
        "                   enumerate(plot_df_total['Genus'].unique())}\n",
        "\n",
        "df_melted['color'] = df_melted['Genus'].map(genus_color_map)\n",
        "\n",
        "fig = go.Figure()\n",
        "\n",
        "for genus in plot_df_total['Genus'].unique():\n",
        "    df_genus = df_melted[df_melted['Genus'] == genus]\n",
        "    fig.add_trace(go.Bar(\n",
        "        x=df_genus['Sample'],\n",
        "        y=df_genus['Relative Abundance'],\n",
        "        text=genus,\n",
        "        textposition='inside',\n",
        "        name=genus,\n",
        "        marker_color=genus_color_map[genus],\n",
        "        hoverinfo='y+name',\n",
        "    ))\n",
        "\n",
        "fig.update_layout(\n",
        "    title='Stacked Bar Plot of Genera in Rhizosphere vs. Soil',\n",
        "    xaxis_title='Sample Type',\n",
        "    yaxis_title='Relative Abundance',\n",
        "    barmode='stack',\n",
        "    showlegend=True,\n",
        ")\n",
        "fig.show()\n",
        "save_fig(fig, 'results/figures/relative_abundancy_genera.html')\n",
        "\n"
      ],
      "outputs": [],
      "execution_count": null,
      "metadata": {
        "jupyter": {
          "source_hidden": false,
          "outputs_hidden": false
        },
        "nteract": {
          "transient": {
            "deleting": false
          }
        }
      }
    },
    {
      "cell_type": "markdown",
      "source": [
        "# Functional annotation\n"
      ],
      "metadata": {
        "nteract": {
          "transient": {
            "deleting": false
          }
        }
      }
    },
    {
      "cell_type": "code",
      "source": [
        "up_genus = genus_df[genus_df['log2FoldChange'] > 0]['Genus'].tolist()\n",
        "down_genus = genus_df[genus_df['log2FoldChange'] < 0]['Genus'].tolist()\n"
      ],
      "outputs": [],
      "execution_count": null,
      "metadata": {
        "jupyter": {
          "source_hidden": false,
          "outputs_hidden": false
        },
        "nteract": {
          "transient": {
            "deleting": false
          }
        }
      }
    },
    {
      "cell_type": "code",
      "source": [
        "up_genus_functions = Counter([i for gen in up_genus for i in faprotax_search(gen)\n",
        "                              if not '*' in i])\n",
        "up_genus_functions\n"
      ],
      "outputs": [],
      "execution_count": null,
      "metadata": {
        "jupyter": {
          "source_hidden": false,
          "outputs_hidden": false
        },
        "nteract": {
          "transient": {
            "deleting": false
          }
        }
      }
    },
    {
      "cell_type": "code",
      "source": [
        "down_genus_functions = Counter([i for gen in down_genus for i in faprotax_search(gen)\n",
        "                                if not '*' in i])\n",
        "down_genus_functions\n",
        "\n"
      ],
      "outputs": [],
      "execution_count": null,
      "metadata": {
        "jupyter": {
          "source_hidden": false,
          "outputs_hidden": false
        },
        "nteract": {
          "transient": {
            "deleting": false
          }
        }
      }
    },
    {
      "cell_type": "markdown",
      "source": [
        "In the **rhizosphere**, there are more taxa involved in:\n",
        "\n",
        "- Nitrogen fixation\n",
        "- Plant pathogenesis\n",
        "- Ligninolysis, cellulolysis, xylanolysis\n",
        "- Methanol oxidation\n",
        "\n",
        "In **free soil**, there are more taxa involved in:\n",
        "\n",
        "- Ammonia and nitrite oxidation\n",
        "- Various sulfur respiration processes\n",
        "- Iron respiration and iron oxidation"
      ],
      "metadata": {
        "nteract": {
          "transient": {
            "deleting": false
          }
        }
      }
    }
  ],
  "metadata": {
    "kernelspec": {
      "argv": [
        "/usr/bin/python3",
        "-Xfrozen_modules=off",
        "-m",
        "ipykernel_launcher",
        "-f",
        "{connection_file}"
      ],
      "display_name": "Python 3 (ipykernel)",
      "language": "python",
      "metadata": {
        "debugger": true
      },
      "name": "python3"
    }
  },
  "nbformat": 4,
  "nbformat_minor": 0
}